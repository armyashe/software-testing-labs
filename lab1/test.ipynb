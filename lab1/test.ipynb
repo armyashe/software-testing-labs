{
 "cells": [
  {
   "cell_type": "code",
   "execution_count": 38,
   "id": "707f11b2",
   "metadata": {},
   "outputs": [],
   "source": [
    "from pathlib import Path\n",
    "\n",
    "base_dir = Path().resolve()  # Thư mục notebook chạy\n",
    "input_path = base_dir / \"input\" / \"testcasePrac1.inp\"\n",
    "code_path = base_dir / \"code\" / \"practice1.cpp\"\n",
    "exe_path = base_dir / \"code\" / \"practice1\"\n",
    "output_path = base_dir / \"output\" / \"outputPrac1.txt\"\n"
   ]
  },
  {
   "cell_type": "code",
   "execution_count": null,
   "id": "8236d96c",
   "metadata": {},
   "outputs": [],
   "source": [
    "with open(input_path, \"w\") as f:\n",
    "    f.write(\"\"\"0 0 0\n",
    "0 0 1\n",
    "0 2 8\n",
    "0 2 -8\n",
    "1 0 -4\n",
    "1 0 4\n",
    "1 -5 4\n",
    "1 -4 4     \n",
    "1 -1 0   \n",
    "\"\"\")"
   ]
  },
  {
   "cell_type": "code",
   "execution_count": 40,
   "id": "6985c3f8",
   "metadata": {},
   "outputs": [
    {
     "name": "stdout",
     "output_type": "stream",
     "text": [
      "Test 1: Output=Infinite solutions.                                      Expected=Infinite solutions\n",
      "Test 2: Output=No solution.                                             Expected=No solution\n",
      "Test 3: Output=No solution.                                             Expected=No solution\n",
      "Test 4: Output= The equation has 2 real solution(s): 2 -2               Expected=2 roots: ±2\n",
      "Test 5: Output= The equation has 2 real solution(s): 1.41421 -1.41421   Expected=2 roots: ±√2 ≈ ±1.41421\n",
      "Test 6: Output=No solution.                                             Expected=No solution\n",
      "Test 7: Output= The equation has 4 real solution(s): 2 -2 1 -1          Expected=4 roots: ±1, ±2\n",
      "Test 8: Output= The equation has 2 real solution(s): 1.41421 -1.41421   Expected=2 roots: ±√2 ≈ ±1.41421\n",
      "Test 9: Output= The equation has 4 real solution(s): 1 -1 0 -0          Expected=3 roots: ±1, 0\n"
     ]
    }
   ],
   "source": [
    "import subprocess\n",
    "\n",
    "# !g++ code_path -o code_path\n",
    "compile_cmd = f\"g++ {code_path} -o {exe_path}\"\n",
    "compile_result = subprocess.run(compile_cmd, shell=True, capture_output=True, text=True)\n",
    "\n",
    "expected = [\n",
    "    \"Infinite solutions\",\n",
    "    \"No solution\",\n",
    "    \"No solution\",\n",
    "    \"2 roots: ±2\",\n",
    "    \"2 roots: ±√2 ≈ ±1.41421\",\n",
    "    \"No solution\",\n",
    "    \"4 roots: ±1, ±2\",\n",
    "    \"2 roots: ±√2 ≈ ±1.41421\",\n",
    "    \"3 roots: ±1, 0\"\n",
    "]\n",
    "\n",
    "run_cmd = f\"{exe_path} < {input_path}\"\n",
    "result = subprocess.run(run_cmd, shell=True, capture_output=True, text=True)\n",
    "outputs = result.stdout.strip().split('\\n')\n",
    "\n",
    "with open( output_path , \"w\") as f:\n",
    "    for i, (output, exp) in enumerate(zip(outputs, expected), 1):\n",
    "        f.write(f\"Test {i}: Output={output:<55}  Expected={exp}\\n\")\n",
    "        print(f\"Test {i}: Output={output:<55}  Expected={exp}\")\n"
   ]
  },
  {
   "cell_type": "code",
   "execution_count": null,
   "id": "34db7bef",
   "metadata": {},
   "outputs": [],
   "source": []
  }
 ],
 "metadata": {
  "kernelspec": {
   "display_name": "Python 3",
   "language": "python",
   "name": "python3"
  },
  "language_info": {
   "codemirror_mode": {
    "name": "ipython",
    "version": 3
   },
   "file_extension": ".py",
   "mimetype": "text/x-python",
   "name": "python",
   "nbconvert_exporter": "python",
   "pygments_lexer": "ipython3",
   "version": "3.12.1"
  }
 },
 "nbformat": 4,
 "nbformat_minor": 5
}
