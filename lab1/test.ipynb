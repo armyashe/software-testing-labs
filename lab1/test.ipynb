{
 "cells": [
  {
   "cell_type": "code",
   "execution_count": null,
   "id": "e666607b",
   "metadata": {},
   "outputs": [
    {
     "name": "stdout",
     "output_type": "stream",
     "text": [
      "Overwriting testcaseExe.inp\n"
     ]
    }
   ],
   "source": [
    "%%writefile /workspaces/software-testing-labs/lab1/input/testcaseExe.inp\n",
    "5 3 1\n",
    "2 7 4\n",
    "3 8 8\n",
    "9 9 5\n",
    "4 4 4"
   ]
  },
  {
   "cell_type": "code",
   "execution_count": 35,
   "id": "b902ffeb",
   "metadata": {},
   "outputs": [
    {
     "name": "stdout",
     "output_type": "stream",
     "text": [
      "Overwriting /workspaces/software-testing-labs/lab1/input/testcase.inp\n"
     ]
    }
   ],
   "source": [
    "%%writefile /workspaces/software-testing-labs/lab1/input/testcase.inp\n",
    "9999\n",
    "88\n"
   ]
  },
  {
   "cell_type": "code",
   "execution_count": 36,
   "id": "f4f9c863",
   "metadata": {},
   "outputs": [
    {
     "name": "stdout",
     "output_type": "stream",
     "text": [
      "Test 1: Output=2  Expected=2\n",
      "Test 2: Output=160  Expected=N/A\n"
     ]
    }
   ],
   "source": [
    "import subprocess\n",
    "\n",
    "!g++ /workspaces/software-testing-labs/lab1/code/exercise_d.cpp -o /workspaces/software-testing-labs/lab1/code/exercise_d\n",
    "expected = [2, 'N/A']\n",
    "\n",
    "cmd = \"/workspaces/software-testing-labs/lab1/code/exercise_d < /workspaces/software-testing-labs/lab1/input/testcaseExd.inp\"\n",
    "result = subprocess.run(cmd, shell=True, capture_output=True, text=True).stdout.strip()\n",
    "outputs = result.split('\\n')\n",
    "\n",
    "with open(\"/workspaces/software-testing-labs/lab1/output/outputExd.txt\", \"w\") as f:\n",
    "    for i, (output, exp) in enumerate(zip(outputs, expected), 1):\n",
    "        f.write(f\"Test {i}: Output={output}  Expected={exp}\\n\")\n",
    "        print(f\"Test {i}: Output={output}  Expected={exp}\")\n"
   ]
  },
  {
   "cell_type": "code",
   "execution_count": 31,
   "id": "7ac1fbe2",
   "metadata": {},
   "outputs": [
    {
     "name": "stdout",
     "output_type": "stream",
     "text": [
      "Test 1: Output=5  Expected=5\n",
      "Test 2: Output=7  Expected=7\n",
      "Test 3: Output=0  Expected=8\n",
      "Test 4: Output=0  Expected=9\n",
      "Test 5: Output=0  Expected=4\n"
     ]
    }
   ],
   "source": [
    "import subprocess\n",
    "\n",
    "!g++ /workspaces/software-testing-labs/lab1/code/exercise_e.cpp -o /workspaces/software-testing-labs/lab1/code/exercise_e\n",
    "expected = [5, 7, 8, 9, 4]\n",
    "\n",
    "cmd = \"/workspaces/software-testing-labs/lab1/code/exercise_e < /workspaces/software-testing-labs/lab1/input/testcaseExe.inp\"\n",
    "result = subprocess.run(cmd, shell=True, capture_output=True, text=True).stdout.strip()\n",
    "outputs = result.split('\\n')\n",
    "\n",
    "with open(\"/workspaces/software-testing-labs/lab1/output/outputExe.txt\", \"w\") as f:\n",
    "    for i, (output, exp) in enumerate(zip(outputs, expected), 1):\n",
    "        f.write(f\"Test {i}: Output={output}  Expected={exp}\\n\")\n",
    "        print(f\"Test {i}: Output={output}  Expected={exp}\")\n"
   ]
  },
  {
   "cell_type": "code",
   "execution_count": 33,
   "id": "51623331",
   "metadata": {},
   "outputs": [
    {
     "name": "stdout",
     "output_type": "stream",
     "text": [
      "Overwriting /workspaces/software-testing-labs/lab1/input/tcPrac1.inp\n"
     ]
    }
   ],
   "source": [
    "%%writefile /workspaces/software-testing-labs/lab1/input/tcPrac1.inp\n",
    "0 0 0\n",
    "0 0 1\n",
    "0 2 -8\n",
    "1 0 -4\n",
    "1 0 4\n",
    "1 -5 4\n",
    "1 -4 4\n"
   ]
  },
  {
   "cell_type": "code",
   "execution_count": 37,
   "id": "61958686",
   "metadata": {},
   "outputs": [
    {
     "name": "stdout",
     "output_type": "stream",
     "text": [
      "Test 1: Output=Infinite solutions.                                      Expected=Infinite solutions.\n",
      "Test 2: Output=No solution.                                             Expected=No solution.\n",
      "Test 3: Output= The equation has 2 real solution(s): 2 -2               Expected=2 real roots: 2 and -2\n",
      "Test 4: Output= The equation has 2 real solution(s): 1.41421 -1.41421   Expected=2 real roots: ~1.41 -1.41\n",
      "Test 5: Output=No solution.                                             Expected=No solution.\n",
      "Test 6: Output= The equation has 4 real solution(s): 2 -2 1 -1          Expected=4 roots: ±1, ±2\n",
      "Test 7: Output= The equation has 2 real solution(s): 1.41421 -1.41421   Expected=2 roots: ±1.41:\n"
     ]
    }
   ],
   "source": [
    "import subprocess\n",
    "\n",
    "!g++ /workspaces/software-testing-labs/lab1/code/practice1.cpp -o /workspaces/software-testing-labs/lab1/code/practice1\n",
    "\n",
    "# Danh sách expected output bạn mong muốn (bạn điền theo kết quả dự kiến)\n",
    "expected = [\n",
    "    \"Infinite solutions.\",\n",
    "    \"No solution.\",\n",
    "    \"2 real roots: 2 and -2\",\n",
    "    \"2 real roots: ~1.41 -1.41\",\n",
    "    \"No solution.\",\n",
    "    \"4 roots: ±1, ±2\",\n",
    "    \"2 roots: ±1.41:\"\n",
    "]\n",
    "\n",
    "# Chạy chương trình với file input chứa nhiều test case\n",
    "cmd = \"/workspaces/software-testing-labs/lab1/code/practice1 < /workspaces/software-testing-labs/lab1/input/tcPrac1.inp\"\n",
    "result = subprocess.run(cmd, shell=True, capture_output=True, text=True).stdout.strip()\n",
    "\n",
    "# Tách kết quả output theo từng dòng\n",
    "outputs = result.split('\\n')\n",
    "\n",
    "# Mở file outputPrac1.txt ghi kết quả từng test case\n",
    "with open(\"/workspaces/software-testing-labs/lab1/output/outputPrac2.txt\", \"w\") as f:\n",
    "    for i, (output, exp) in enumerate(zip(outputs, expected), 1):\n",
    "        f.write(f\"Test {i}: Output={output:<55}  Expected={exp}\\n\")\n",
    "        print(f\"Test {i}: Output={output:<55}  Expected={exp}\")\n"
   ]
  },
  {
   "cell_type": "markdown",
   "id": "d1c55f4e",
   "metadata": {},
   "source": [
    "NHAP CODE"
   ]
  },
  {
   "cell_type": "code",
   "execution_count": 21,
   "id": "707f11b2",
   "metadata": {},
   "outputs": [],
   "source": [
    "from pathlib import Path\n",
    "\n",
    "base_dir = Path().resolve()  # Thư mục notebook chạy\n",
    "input_path = base_dir / \"input\" / \"testcaseExd.inp\"\n",
    "code_path = base_dir / \"code\" / \"exercise_d.cpp\"\n",
    "exe_path = base_dir / \"code\" / \"exercise_d\"\n",
    "output_path = base_dir / \"output\" / \"outputExd.txt\"\n"
   ]
  },
  {
   "cell_type": "code",
   "execution_count": 22,
   "id": "8236d96c",
   "metadata": {},
   "outputs": [],
   "source": [
    "with open(input_path, \"w\") as f:\n",
    "    f.write(\"\"\"1\n",
    "80\n",
    "\"\"\")\n"
   ]
  },
  {
   "cell_type": "code",
   "execution_count": 23,
   "id": "6985c3f8",
   "metadata": {},
   "outputs": [
    {
     "name": "stdout",
     "output_type": "stream",
     "text": [
      "Test 1: Output=2                                                        Expected=2\n",
      "Test 2: Output=160                                                      Expected=N/A\n"
     ]
    }
   ],
   "source": [
    "import subprocess\n",
    "\n",
    "# !g++ code_path -o code_path\n",
    "compile_cmd = f\"g++ {code_path} -o {exe_path}\"\n",
    "compile_result = subprocess.run(compile_cmd, shell=True, capture_output=True, text=True)\n",
    "\n",
    "expected = [2, 'N/A']\n",
    "\n",
    "run_cmd = f\"{exe_path} < {input_path}\"\n",
    "result = subprocess.run(run_cmd, shell=True, capture_output=True, text=True)\n",
    "outputs = result.stdout.strip().split('\\n')\n",
    "\n",
    "with open( output_path , \"w\") as f:\n",
    "    for i, (output, exp) in enumerate(zip(outputs, expected), 1):\n",
    "        f.write(f\"Test {i}: Output={output:<55}  Expected={exp}\\n\")\n",
    "        print(f\"Test {i}: Output={output:<55}  Expected={exp}\")\n"
   ]
  }
 ],
 "metadata": {
  "kernelspec": {
   "display_name": "Python 3",
   "language": "python",
   "name": "python3"
  },
  "language_info": {
   "codemirror_mode": {
    "name": "ipython",
    "version": 3
   },
   "file_extension": ".py",
   "mimetype": "text/x-python",
   "name": "python",
   "nbconvert_exporter": "python",
   "pygments_lexer": "ipython3",
   "version": "3.12.1"
  }
 },
 "nbformat": 4,
 "nbformat_minor": 5
}
