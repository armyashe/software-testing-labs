{
 "cells": [
  {
   "cell_type": "code",
   "execution_count": 5,
   "id": "56d66e25",
   "metadata": {},
   "outputs": [
    {
     "name": "stdout",
     "output_type": "stream",
     "text": [
      "Overwriting baie_t1.inp\n"
     ]
    }
   ],
   "source": [
    "%%writefile baie_t1.inp\n",
    "5 3 1"
   ]
  },
  {
   "cell_type": "code",
   "execution_count": 6,
   "id": "23b39a9e",
   "metadata": {},
   "outputs": [
    {
     "name": "stdout",
     "output_type": "stream",
     "text": [
      "Overwriting baie_t2.inp\n"
     ]
    }
   ],
   "source": [
    "%%writefile baie_t2.inp\n",
    "2 7 4"
   ]
  },
  {
   "cell_type": "code",
   "execution_count": 7,
   "id": "a726c3a7",
   "metadata": {},
   "outputs": [
    {
     "name": "stdout",
     "output_type": "stream",
     "text": [
      "Writing baie_t3.inp\n"
     ]
    }
   ],
   "source": [
    "%%writefile baie_t3.inp\n",
    "3 8 8"
   ]
  },
  {
   "cell_type": "code",
   "execution_count": 8,
   "id": "54395b53",
   "metadata": {},
   "outputs": [
    {
     "name": "stdout",
     "output_type": "stream",
     "text": [
      "Writing baie_t4.inp\n"
     ]
    }
   ],
   "source": [
    "%%writefile baie_t4.inp\n",
    "9 9 5"
   ]
  },
  {
   "cell_type": "code",
   "execution_count": 9,
   "id": "d427892d",
   "metadata": {},
   "outputs": [
    {
     "name": "stdout",
     "output_type": "stream",
     "text": [
      "Writing baie_t5.inp\n"
     ]
    }
   ],
   "source": [
    "%%writefile baie_t5.inp\n",
    "4 4 4"
   ]
  },
  {
   "cell_type": "code",
   "execution_count": 10,
   "id": "4c178a10",
   "metadata": {},
   "outputs": [
    {
     "name": "stdout",
     "output_type": "stream",
     "text": [
      "Expected: 5\n",
      "5\n",
      "Expected: 7\n",
      "7\n",
      "Expected: 8\n",
      "0\n",
      "Expected: 9\n",
      "0\n",
      "Expected: 4\n",
      "0\n"
     ]
    }
   ],
   "source": [
    "!g++ baie.cpp -o baie\n",
    "!./baie < baie_t1.inp > out1.txt\n",
    "!echo \"Expected: 5\"\n",
    "!cat out1.txt\n",
    "\n",
    "!./baie < baie_t2.inp > out2.txt\n",
    "!echo \"Expected: 7\"\n",
    "!cat out2.txt\n",
    "\n",
    "!./baie < baie_t3.inp > out3.txt\n",
    "!echo \"Expected: 8\"\n",
    "!cat out3.txt\n",
    "\n",
    "!./baie < baie_t4.inp > out4.txt\n",
    "!echo \"Expected: 9\"\n",
    "!cat out4.txt\n",
    "\n",
    "!./baie < baie_t5.inp > out5.txt\n",
    "!echo \"Expected: 4\"\n",
    "!cat out5.txt"
   ]
  },
  {
   "cell_type": "code",
   "execution_count": null,
   "id": "51623331",
   "metadata": {},
   "outputs": [],
   "source": []
  }
 ],
 "metadata": {
  "kernelspec": {
   "display_name": "Python 3",
   "language": "python",
   "name": "python3"
  },
  "language_info": {
   "codemirror_mode": {
    "name": "ipython",
    "version": 3
   },
   "file_extension": ".py",
   "mimetype": "text/x-python",
   "name": "python",
   "nbconvert_exporter": "python",
   "pygments_lexer": "ipython3",
   "version": "3.12.1"
  }
 },
 "nbformat": 4,
 "nbformat_minor": 5
}
