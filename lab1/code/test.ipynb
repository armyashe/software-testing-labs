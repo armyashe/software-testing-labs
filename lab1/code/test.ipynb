{
 "cells": [
  {
   "cell_type": "code",
   "execution_count": null,
   "id": "e666607b",
   "metadata": {},
   "outputs": [
    {
     "name": "stdout",
     "output_type": "stream",
     "text": [
      "Overwriting testcaseExe.inp\n"
     ]
    }
   ],
   "source": [
    "%%writefile testcaseExe.inp\n",
    "5 3 1\n",
    "2 7 4\n",
    "3 8 8\n",
    "9 9 5\n",
    "4 4 4"
   ]
  },
  {
   "cell_type": "code",
   "execution_count": 5,
   "id": "b902ffeb",
   "metadata": {},
   "outputs": [
    {
     "name": "stdout",
     "output_type": "stream",
     "text": [
      "Writing testcaseExc.inp\n"
     ]
    }
   ],
   "source": [
    "%%writefile testcaseExc.inp\n",
    "-3\n",
    "12\n",
    "1"
   ]
  },
  {
   "cell_type": "code",
   "execution_count": 6,
   "id": "f4f9c863",
   "metadata": {},
   "outputs": [
    {
     "name": "stdout",
     "output_type": "stream",
     "text": [
      "Test 1: Output=-6  Expected=-6\n",
      "Test 2: Output=24  Expected=24\n",
      "Test 3: Output=2  Expected=none\n"
     ]
    }
   ],
   "source": [
    "import subprocess\n",
    "\n",
    "!g++ exercise_c.cpp -o exercise_c\n",
    "expected = [-6, 24, 'none']\n",
    "\n",
    "cmd = \"./exercise_c < testcaseExc.inp\"\n",
    "result = subprocess.run(cmd, shell=True, capture_output=True, text=True).stdout.strip()\n",
    "outputs = result.split('\\n')\n",
    "\n",
    "with open(\"outputExc.txt\", \"w\") as f:\n",
    "    for i, (output, exp) in enumerate(zip(outputs, expected), 1):\n",
    "        f.write(f\"Test {i}: Output={output}  Expected={exp}\\n\")\n",
    "        print(f\"Test {i}: Output={output}  Expected={exp}\")\n"
   ]
  },
  {
   "cell_type": "code",
   "execution_count": 2,
   "id": "7ac1fbe2",
   "metadata": {},
   "outputs": [
    {
     "name": "stdout",
     "output_type": "stream",
     "text": [
      "Test 1: Output=5  Expected=5\n",
      "Test 2: Output=7  Expected=7\n",
      "Test 3: Output=0  Expected=8\n",
      "Test 4: Output=0  Expected=9\n",
      "Test 5: Output=0  Expected=4\n"
     ]
    }
   ],
   "source": [
    "import subprocess\n",
    "\n",
    "!g++ exercise_e.cpp -o exercise_e\n",
    "expected = [5, 7, 8, 9, 4]\n",
    "\n",
    "cmd = \"./exercise_e < testcaseExe.inp\"\n",
    "result = subprocess.run(cmd, shell=True, capture_output=True, text=True).stdout.strip()\n",
    "outputs = result.split('\\n')\n",
    "\n",
    "with open(\"outputExe.txt\", \"w\") as f:\n",
    "    for i, (output, exp) in enumerate(zip(outputs, expected), 1):\n",
    "        f.write(f\"Test {i}: Output={output}  Expected={exp}\\n\")\n",
    "        print(f\"Test {i}: Output={output}  Expected={exp}\")\n"
   ]
  },
  {
   "cell_type": "code",
   "execution_count": 7,
   "id": "51623331",
   "metadata": {},
   "outputs": [
    {
     "name": "stdout",
     "output_type": "stream",
     "text": [
      "Overwriting tcPrac1.inp\n"
     ]
    }
   ],
   "source": [
    "%%writefile tcPrac1.inp\n",
    "0 0 0\n",
    "0 0 1\n",
    "0 2 -8\n",
    "1 0 -4\n",
    "1 0 4\n",
    "1 -5 4\n",
    "1 -4 4\n"
   ]
  },
  {
   "cell_type": "code",
   "execution_count": null,
   "id": "61958686",
   "metadata": {},
   "outputs": [
    {
     "name": "stdout",
     "output_type": "stream",
     "text": [
      "Test 1: Output=Infinite solutions.                                      Expected=Infinite solutions.\n",
      "Test 2: Output=No solution.                                             Expected=No solution.\n",
      "Test 3: Output= The equation has 2 real solution(s): 2 -2               Expected=The equation has 2 real solution(s):\n",
      "Test 4: Output= The equation has 2 real solution(s): 1.41421 -1.41421   Expected=The equation has 2 real solution(s):\n",
      "Test 5: Output=No solution.                                             Expected=No solution.\n",
      "Test 6: Output= The equation has 4 real solution(s): 2 -2 1 -1          Expected=The equation has 4 real solution(s):\n",
      "Test 7: Output= The equation has 2 real solution(s): 1.41421 -1.41421   Expected=The equation has 2 real solution(s):\n"
     ]
    }
   ],
   "source": [
    "import subprocess\n",
    "\n",
    "!g++ practice1.cpp -o practice1\n",
    "\n",
    "# Danh sách expected output bạn mong muốn (bạn điền theo kết quả dự kiến)\n",
    "expected = [\n",
    "    \"Infinite solutions.\",\n",
    "    \"No solution.\",\n",
    "    \"The equation has 2 real solution(s):\",\n",
    "    \"The equation has 2 real solution(s):\",\n",
    "    \"No solution.\",\n",
    "    \"The equation has 4 real solution(s):\",\n",
    "    \"The equation has 2 real solution(s):\"\n",
    "]\n",
    "\n",
    "# Chạy chương trình với file input chứa nhiều test case\n",
    "cmd = \"./practice1 < tcPrac1.inp\"\n",
    "result = subprocess.run(cmd, shell=True, capture_output=True, text=True).stdout.strip()\n",
    "\n",
    "# Tách kết quả output theo từng dòng\n",
    "outputs = result.split('\\n')\n",
    "\n",
    "# Mở file outputPrac1.txt ghi kết quả từng test case\n",
    "with open(\"outputPrac1.txt\", \"w\") as f:\n",
    "    for i, (output, exp) in enumerate(zip(outputs, expected), 1):\n",
    "        f.write(f\"Test {i}: Output={output:<55}  Expected={exp}\\n\")\n",
    "        print(f\"Test {i}: Output={output:<55}  Expected={exp}\")\n"
   ]
  },
  {
   "cell_type": "code",
   "execution_count": null,
   "id": "60d4ef49",
   "metadata": {},
   "outputs": [],
   "source": []
  }
 ],
 "metadata": {
  "kernelspec": {
   "display_name": "Python 3",
   "language": "python",
   "name": "python3"
  },
  "language_info": {
   "codemirror_mode": {
    "name": "ipython",
    "version": 3
   },
   "file_extension": ".py",
   "mimetype": "text/x-python",
   "name": "python",
   "nbconvert_exporter": "python",
   "pygments_lexer": "ipython3",
   "version": "3.12.1"
  }
 },
 "nbformat": 4,
 "nbformat_minor": 5
}
