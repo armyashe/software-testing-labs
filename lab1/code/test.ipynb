{
 "cells": [
  {
   "cell_type": "code",
   "execution_count": 33,
   "id": "e666607b",
   "metadata": {},
   "outputs": [
    {
     "name": "stdout",
     "output_type": "stream",
     "text": [
      "Overwriting testcaseExe.inp\n"
     ]
    }
   ],
   "source": [
    "%%writefile testcaseExe.inp\n",
    "5 3 1\n",
    "2 7 4\n",
    "3 8 8\n",
    "9 9 5\n",
    "4 4 4"
   ]
  },
  {
   "cell_type": "code",
   "execution_count": 34,
   "id": "7ac1fbe2",
   "metadata": {},
   "outputs": [
    {
     "name": "stdout",
     "output_type": "stream",
     "text": [
      "Test 1: Output=5  Expected=5\n",
      "Test 2: Output=7  Expected=7\n",
      "Test 3: Output=0  Expected=8\n",
      "Test 4: Output=0  Expected=9\n",
      "Test 5: Output=0  Expected=4\n"
     ]
    }
   ],
   "source": [
    "import subprocess\n",
    "\n",
    "!g++ baie.cpp -o baie\n",
    "expected = [5, 7, 8, 9, 4]\n",
    "\n",
    "cmd = \"./baie < testcaseExe.inp\"\n",
    "result = subprocess.run(cmd, shell=True, capture_output=True, text=True).stdout.strip()\n",
    "outputs = result.split('\\n')\n",
    "\n",
    "with open(\"outputExe.txt\", \"w\") as f:\n",
    "    for i, (output, exp) in enumerate(zip(outputs, expected), 1):\n",
    "        f.write(f\"Test {i}: Output={output}  Expected={exp}\\n\")\n",
    "        print(f\"Test {i}: Output={output}  Expected={exp}\")\n"
   ]
  },
  {
   "cell_type": "code",
   "execution_count": null,
   "id": "51623331",
   "metadata": {},
   "outputs": [],
   "source": []
  }
 ],
 "metadata": {
  "kernelspec": {
   "display_name": "Python 3",
   "language": "python",
   "name": "python3"
  },
  "language_info": {
   "codemirror_mode": {
    "name": "ipython",
    "version": 3
   },
   "file_extension": ".py",
   "mimetype": "text/x-python",
   "name": "python",
   "nbconvert_exporter": "python",
   "pygments_lexer": "ipython3",
   "version": "3.12.1"
  }
 },
 "nbformat": 4,
 "nbformat_minor": 5
}
